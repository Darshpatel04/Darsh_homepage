{
  "nbformat": 4,
  "nbformat_minor": 0,
  "metadata": {
    "kernelspec": {
      "language": "python",
      "display_name": "Python 3",
      "name": "python3"
    },
    "language_info": {
      "pygments_lexer": "ipython3",
      "nbconvert_exporter": "python",
      "version": "3.6.4",
      "file_extension": ".py",
      "codemirror_mode": {
        "name": "ipython",
        "version": 3
      },
      "name": "python",
      "mimetype": "text/x-python"
    },
    "colab": {
      "name": "titanic-survivors-3.ipynb",
      "provenance": [],
      "include_colab_link": true
    }
  },
  "cells": [
    {
      "cell_type": "markdown",
      "metadata": {
        "id": "view-in-github",
        "colab_type": "text"
      },
      "source": [
        "<a href=\"https://colab.research.google.com/github/Darshpatel04/Darsh_homepage/blob/master/titanic_survivors_3.ipynb\" target=\"_parent\"><img src=\"https://colab.research.google.com/assets/colab-badge.svg\" alt=\"Open In Colab\"/></a>"
      ]
    },
    {
      "cell_type": "markdown",
      "metadata": {
        "id": "cDu4kRXEVqC0"
      },
      "source": [
        "# Titanic Survivors Predictions Using Various Algorithms\n",
        "This is my First ever kaggle Challange.\n",
        "Here i will try to predict who survived in the RMS Titanic on 15 April 1912.\n",
        "On this RMS Titanic it is estimated 2,224 passengers and crew aboard."
      ]
    },
    {
      "cell_type": "code",
      "metadata": {
        "execution": {
          "iopub.status.busy": "2021-09-28T23:20:57.392566Z",
          "iopub.execute_input": "2021-09-28T23:20:57.392998Z",
          "iopub.status.idle": "2021-09-28T23:20:58.841998Z",
          "shell.execute_reply.started": "2021-09-28T23:20:57.392963Z",
          "shell.execute_reply": "2021-09-28T23:20:58.840887Z"
        },
        "trusted": true,
        "id": "n1BlUDdoVqC2"
      },
      "source": [
        "# This Python 3 environment comes with many helpful analytics libraries installed\n",
        "# It is defined by the kaggle/python Docker image: https://github.com/kaggle/docker-python\n",
        "# For example, here's several helpful packages to load\n",
        "\n",
        "import numpy as np # linear algebra\n",
        "import pandas as pd # data processing, CSV file I/O (e.g. pd.read_csv)\n",
        "import seaborn as sns\n",
        "import matplotlib.pyplot as plt\n",
        "from sklearn.linear_model import LogisticRegression\n",
        "from sklearn.neighbors import KNeighborsClassifier\n",
        "from sklearn.ensemble import RandomForestClassifier\n",
        "\n",
        "# Input data files are available in the read-only \"../input/\" directory\n",
        "# For example, running this (by clicking run or pressing Shift+Enter) will list all files under the input directory\n",
        "\n",
        "import os\n",
        "for dirname, _, filenames in os.walk('/kaggle/input'):\n",
        "    for filename in filenames:\n",
        "        print(os.path.join(dirname, filename))\n",
        "\n",
        "# You can write up to 20GB to the current directory (/kaggle/working/) that gets preserved as output when you create a version using \"Save & Run All\" \n",
        "# You can also write temporary files to /kaggle/temp/, but they won't be saved outside of the current session"
      ],
      "execution_count": null,
      "outputs": []
    },
    {
      "cell_type": "markdown",
      "metadata": {
        "id": "aTtsUQLOVqC3"
      },
      "source": [
        "# Exploring and Analysing Datasets"
      ]
    },
    {
      "cell_type": "code",
      "metadata": {
        "execution": {
          "iopub.status.busy": "2021-09-28T23:21:02.315885Z",
          "iopub.execute_input": "2021-09-28T23:21:02.317114Z",
          "iopub.status.idle": "2021-09-28T23:21:02.368138Z",
          "shell.execute_reply.started": "2021-09-28T23:21:02.31701Z",
          "shell.execute_reply": "2021-09-28T23:21:02.367281Z"
        },
        "trusted": true,
        "id": "ozAw3kGoVqC4",
        "colab": {
          "base_uri": "https://localhost:8080/",
          "height": 409
        },
        "outputId": "176c56cc-79c1-4e6a-f818-1df42f67e1d9"
      },
      "source": [
        "#Checking Train datasets\n",
        "Train_data = pd.read_csv(\"../input/titanic/train.csv\")\n",
        "Train_data.head(10)"
      ],
      "execution_count": null,
      "outputs": [
        {
          "output_type": "error",
          "ename": "FileNotFoundError",
          "evalue": "ignored",
          "traceback": [
            "\u001b[0;31m---------------------------------------------------------------------------\u001b[0m",
            "\u001b[0;31mFileNotFoundError\u001b[0m                         Traceback (most recent call last)",
            "\u001b[0;32m<ipython-input-2-f2cc2a9bbbf5>\u001b[0m in \u001b[0;36m<module>\u001b[0;34m()\u001b[0m\n\u001b[1;32m      1\u001b[0m \u001b[0;31m#Checking Train datasets\u001b[0m\u001b[0;34m\u001b[0m\u001b[0;34m\u001b[0m\u001b[0;34m\u001b[0m\u001b[0m\n\u001b[0;32m----> 2\u001b[0;31m \u001b[0mTrain_data\u001b[0m \u001b[0;34m=\u001b[0m \u001b[0mpd\u001b[0m\u001b[0;34m.\u001b[0m\u001b[0mread_csv\u001b[0m\u001b[0;34m(\u001b[0m\u001b[0;34m\"../input/titanic/train.csv\"\u001b[0m\u001b[0;34m)\u001b[0m\u001b[0;34m\u001b[0m\u001b[0;34m\u001b[0m\u001b[0m\n\u001b[0m\u001b[1;32m      3\u001b[0m \u001b[0mTrain_data\u001b[0m\u001b[0;34m.\u001b[0m\u001b[0mhead\u001b[0m\u001b[0;34m(\u001b[0m\u001b[0;36m10\u001b[0m\u001b[0;34m)\u001b[0m\u001b[0;34m\u001b[0m\u001b[0;34m\u001b[0m\u001b[0m\n",
            "\u001b[0;32m/usr/local/lib/python3.7/dist-packages/pandas/io/parsers.py\u001b[0m in \u001b[0;36mread_csv\u001b[0;34m(filepath_or_buffer, sep, delimiter, header, names, index_col, usecols, squeeze, prefix, mangle_dupe_cols, dtype, engine, converters, true_values, false_values, skipinitialspace, skiprows, skipfooter, nrows, na_values, keep_default_na, na_filter, verbose, skip_blank_lines, parse_dates, infer_datetime_format, keep_date_col, date_parser, dayfirst, cache_dates, iterator, chunksize, compression, thousands, decimal, lineterminator, quotechar, quoting, doublequote, escapechar, comment, encoding, dialect, error_bad_lines, warn_bad_lines, delim_whitespace, low_memory, memory_map, float_precision)\u001b[0m\n\u001b[1;32m    686\u001b[0m     )\n\u001b[1;32m    687\u001b[0m \u001b[0;34m\u001b[0m\u001b[0m\n\u001b[0;32m--> 688\u001b[0;31m     \u001b[0;32mreturn\u001b[0m \u001b[0m_read\u001b[0m\u001b[0;34m(\u001b[0m\u001b[0mfilepath_or_buffer\u001b[0m\u001b[0;34m,\u001b[0m \u001b[0mkwds\u001b[0m\u001b[0;34m)\u001b[0m\u001b[0;34m\u001b[0m\u001b[0;34m\u001b[0m\u001b[0m\n\u001b[0m\u001b[1;32m    689\u001b[0m \u001b[0;34m\u001b[0m\u001b[0m\n\u001b[1;32m    690\u001b[0m \u001b[0;34m\u001b[0m\u001b[0m\n",
            "\u001b[0;32m/usr/local/lib/python3.7/dist-packages/pandas/io/parsers.py\u001b[0m in \u001b[0;36m_read\u001b[0;34m(filepath_or_buffer, kwds)\u001b[0m\n\u001b[1;32m    452\u001b[0m \u001b[0;34m\u001b[0m\u001b[0m\n\u001b[1;32m    453\u001b[0m     \u001b[0;31m# Create the parser.\u001b[0m\u001b[0;34m\u001b[0m\u001b[0;34m\u001b[0m\u001b[0;34m\u001b[0m\u001b[0m\n\u001b[0;32m--> 454\u001b[0;31m     \u001b[0mparser\u001b[0m \u001b[0;34m=\u001b[0m \u001b[0mTextFileReader\u001b[0m\u001b[0;34m(\u001b[0m\u001b[0mfp_or_buf\u001b[0m\u001b[0;34m,\u001b[0m \u001b[0;34m**\u001b[0m\u001b[0mkwds\u001b[0m\u001b[0;34m)\u001b[0m\u001b[0;34m\u001b[0m\u001b[0;34m\u001b[0m\u001b[0m\n\u001b[0m\u001b[1;32m    455\u001b[0m \u001b[0;34m\u001b[0m\u001b[0m\n\u001b[1;32m    456\u001b[0m     \u001b[0;32mif\u001b[0m \u001b[0mchunksize\u001b[0m \u001b[0;32mor\u001b[0m \u001b[0miterator\u001b[0m\u001b[0;34m:\u001b[0m\u001b[0;34m\u001b[0m\u001b[0;34m\u001b[0m\u001b[0m\n",
            "\u001b[0;32m/usr/local/lib/python3.7/dist-packages/pandas/io/parsers.py\u001b[0m in \u001b[0;36m__init__\u001b[0;34m(self, f, engine, **kwds)\u001b[0m\n\u001b[1;32m    946\u001b[0m             \u001b[0mself\u001b[0m\u001b[0;34m.\u001b[0m\u001b[0moptions\u001b[0m\u001b[0;34m[\u001b[0m\u001b[0;34m\"has_index_names\"\u001b[0m\u001b[0;34m]\u001b[0m \u001b[0;34m=\u001b[0m \u001b[0mkwds\u001b[0m\u001b[0;34m[\u001b[0m\u001b[0;34m\"has_index_names\"\u001b[0m\u001b[0;34m]\u001b[0m\u001b[0;34m\u001b[0m\u001b[0;34m\u001b[0m\u001b[0m\n\u001b[1;32m    947\u001b[0m \u001b[0;34m\u001b[0m\u001b[0m\n\u001b[0;32m--> 948\u001b[0;31m         \u001b[0mself\u001b[0m\u001b[0;34m.\u001b[0m\u001b[0m_make_engine\u001b[0m\u001b[0;34m(\u001b[0m\u001b[0mself\u001b[0m\u001b[0;34m.\u001b[0m\u001b[0mengine\u001b[0m\u001b[0;34m)\u001b[0m\u001b[0;34m\u001b[0m\u001b[0;34m\u001b[0m\u001b[0m\n\u001b[0m\u001b[1;32m    949\u001b[0m \u001b[0;34m\u001b[0m\u001b[0m\n\u001b[1;32m    950\u001b[0m     \u001b[0;32mdef\u001b[0m \u001b[0mclose\u001b[0m\u001b[0;34m(\u001b[0m\u001b[0mself\u001b[0m\u001b[0;34m)\u001b[0m\u001b[0;34m:\u001b[0m\u001b[0;34m\u001b[0m\u001b[0;34m\u001b[0m\u001b[0m\n",
            "\u001b[0;32m/usr/local/lib/python3.7/dist-packages/pandas/io/parsers.py\u001b[0m in \u001b[0;36m_make_engine\u001b[0;34m(self, engine)\u001b[0m\n\u001b[1;32m   1178\u001b[0m     \u001b[0;32mdef\u001b[0m \u001b[0m_make_engine\u001b[0m\u001b[0;34m(\u001b[0m\u001b[0mself\u001b[0m\u001b[0;34m,\u001b[0m \u001b[0mengine\u001b[0m\u001b[0;34m=\u001b[0m\u001b[0;34m\"c\"\u001b[0m\u001b[0;34m)\u001b[0m\u001b[0;34m:\u001b[0m\u001b[0;34m\u001b[0m\u001b[0;34m\u001b[0m\u001b[0m\n\u001b[1;32m   1179\u001b[0m         \u001b[0;32mif\u001b[0m \u001b[0mengine\u001b[0m \u001b[0;34m==\u001b[0m \u001b[0;34m\"c\"\u001b[0m\u001b[0;34m:\u001b[0m\u001b[0;34m\u001b[0m\u001b[0;34m\u001b[0m\u001b[0m\n\u001b[0;32m-> 1180\u001b[0;31m             \u001b[0mself\u001b[0m\u001b[0;34m.\u001b[0m\u001b[0m_engine\u001b[0m \u001b[0;34m=\u001b[0m \u001b[0mCParserWrapper\u001b[0m\u001b[0;34m(\u001b[0m\u001b[0mself\u001b[0m\u001b[0;34m.\u001b[0m\u001b[0mf\u001b[0m\u001b[0;34m,\u001b[0m \u001b[0;34m**\u001b[0m\u001b[0mself\u001b[0m\u001b[0;34m.\u001b[0m\u001b[0moptions\u001b[0m\u001b[0;34m)\u001b[0m\u001b[0;34m\u001b[0m\u001b[0;34m\u001b[0m\u001b[0m\n\u001b[0m\u001b[1;32m   1181\u001b[0m         \u001b[0;32melse\u001b[0m\u001b[0;34m:\u001b[0m\u001b[0;34m\u001b[0m\u001b[0;34m\u001b[0m\u001b[0m\n\u001b[1;32m   1182\u001b[0m             \u001b[0;32mif\u001b[0m \u001b[0mengine\u001b[0m \u001b[0;34m==\u001b[0m \u001b[0;34m\"python\"\u001b[0m\u001b[0;34m:\u001b[0m\u001b[0;34m\u001b[0m\u001b[0;34m\u001b[0m\u001b[0m\n",
            "\u001b[0;32m/usr/local/lib/python3.7/dist-packages/pandas/io/parsers.py\u001b[0m in \u001b[0;36m__init__\u001b[0;34m(self, src, **kwds)\u001b[0m\n\u001b[1;32m   2008\u001b[0m         \u001b[0mkwds\u001b[0m\u001b[0;34m[\u001b[0m\u001b[0;34m\"usecols\"\u001b[0m\u001b[0;34m]\u001b[0m \u001b[0;34m=\u001b[0m \u001b[0mself\u001b[0m\u001b[0;34m.\u001b[0m\u001b[0musecols\u001b[0m\u001b[0;34m\u001b[0m\u001b[0;34m\u001b[0m\u001b[0m\n\u001b[1;32m   2009\u001b[0m \u001b[0;34m\u001b[0m\u001b[0m\n\u001b[0;32m-> 2010\u001b[0;31m         \u001b[0mself\u001b[0m\u001b[0;34m.\u001b[0m\u001b[0m_reader\u001b[0m \u001b[0;34m=\u001b[0m \u001b[0mparsers\u001b[0m\u001b[0;34m.\u001b[0m\u001b[0mTextReader\u001b[0m\u001b[0;34m(\u001b[0m\u001b[0msrc\u001b[0m\u001b[0;34m,\u001b[0m \u001b[0;34m**\u001b[0m\u001b[0mkwds\u001b[0m\u001b[0;34m)\u001b[0m\u001b[0;34m\u001b[0m\u001b[0;34m\u001b[0m\u001b[0m\n\u001b[0m\u001b[1;32m   2011\u001b[0m         \u001b[0mself\u001b[0m\u001b[0;34m.\u001b[0m\u001b[0munnamed_cols\u001b[0m \u001b[0;34m=\u001b[0m \u001b[0mself\u001b[0m\u001b[0;34m.\u001b[0m\u001b[0m_reader\u001b[0m\u001b[0;34m.\u001b[0m\u001b[0munnamed_cols\u001b[0m\u001b[0;34m\u001b[0m\u001b[0;34m\u001b[0m\u001b[0m\n\u001b[1;32m   2012\u001b[0m \u001b[0;34m\u001b[0m\u001b[0m\n",
            "\u001b[0;32mpandas/_libs/parsers.pyx\u001b[0m in \u001b[0;36mpandas._libs.parsers.TextReader.__cinit__\u001b[0;34m()\u001b[0m\n",
            "\u001b[0;32mpandas/_libs/parsers.pyx\u001b[0m in \u001b[0;36mpandas._libs.parsers.TextReader._setup_parser_source\u001b[0;34m()\u001b[0m\n",
            "\u001b[0;31mFileNotFoundError\u001b[0m: [Errno 2] No such file or directory: '../input/titanic/train.csv'"
          ]
        }
      ]
    },
    {
      "cell_type": "code",
      "metadata": {
        "execution": {
          "iopub.status.busy": "2021-09-28T23:21:03.892528Z",
          "iopub.execute_input": "2021-09-28T23:21:03.892903Z",
          "iopub.status.idle": "2021-09-28T23:21:03.924535Z",
          "shell.execute_reply.started": "2021-09-28T23:21:03.892866Z",
          "shell.execute_reply": "2021-09-28T23:21:03.9236Z"
        },
        "trusted": true,
        "id": "JiFzJLIRVqC4"
      },
      "source": [
        "#Checking Test Datasets\n",
        "Test_data = pd.read_csv(\"../input/titanic/test.csv\")\n",
        "Test_data.head(10)"
      ],
      "execution_count": null,
      "outputs": []
    },
    {
      "cell_type": "code",
      "metadata": {
        "execution": {
          "iopub.status.busy": "2021-09-28T23:21:05.584446Z",
          "iopub.execute_input": "2021-09-28T23:21:05.584808Z",
          "iopub.status.idle": "2021-09-28T23:21:05.591393Z",
          "shell.execute_reply.started": "2021-09-28T23:21:05.58477Z",
          "shell.execute_reply": "2021-09-28T23:21:05.590712Z"
        },
        "trusted": true,
        "id": "6hLzE2CGVqC4"
      },
      "source": [
        "#Knowing Datasets\n",
        "print (Train_data.shape)\n",
        "print (Test_data.shape)"
      ],
      "execution_count": null,
      "outputs": []
    },
    {
      "cell_type": "code",
      "metadata": {
        "execution": {
          "iopub.status.busy": "2021-09-28T23:21:07.076297Z",
          "iopub.execute_input": "2021-09-28T23:21:07.078281Z",
          "iopub.status.idle": "2021-09-28T23:21:07.093649Z",
          "shell.execute_reply.started": "2021-09-28T23:21:07.078193Z",
          "shell.execute_reply": "2021-09-28T23:21:07.092733Z"
        },
        "trusted": true,
        "id": "nfoTSn-jVqC4"
      },
      "source": [
        "#from Aleix notebook\n",
        "women = Train_data.loc[Train_data.Sex == 'female'][\"Survived\"]\n",
        "rate_women = sum(women)/len(women)\n",
        "\n",
        "print(\"% of women who survived:\", rate_women)"
      ],
      "execution_count": null,
      "outputs": []
    },
    {
      "cell_type": "code",
      "metadata": {
        "execution": {
          "iopub.status.busy": "2021-09-28T23:21:08.460532Z",
          "iopub.execute_input": "2021-09-28T23:21:08.461016Z",
          "iopub.status.idle": "2021-09-28T23:21:08.469336Z",
          "shell.execute_reply.started": "2021-09-28T23:21:08.460968Z",
          "shell.execute_reply": "2021-09-28T23:21:08.468277Z"
        },
        "trusted": true,
        "id": "uN7Vj98-VqC5"
      },
      "source": [
        "#from Aleix notebook\n",
        "men = Train_data.loc[Train_data.Sex == 'male'][\"Survived\"]\n",
        "rate_men = sum(men)/len(men)\n",
        "\n",
        "print(\"% of men who survived:\", rate_men)"
      ],
      "execution_count": null,
      "outputs": []
    },
    {
      "cell_type": "code",
      "metadata": {
        "execution": {
          "iopub.status.busy": "2021-09-28T23:21:09.597154Z",
          "iopub.execute_input": "2021-09-28T23:21:09.59747Z",
          "iopub.status.idle": "2021-09-28T23:21:09.619122Z",
          "shell.execute_reply.started": "2021-09-28T23:21:09.597427Z",
          "shell.execute_reply": "2021-09-28T23:21:09.618311Z"
        },
        "trusted": true,
        "id": "obwyEgahVqC5"
      },
      "source": [
        "Train_data.info()  #for Categorical Information in Train dataset"
      ],
      "execution_count": null,
      "outputs": []
    },
    {
      "cell_type": "code",
      "metadata": {
        "execution": {
          "iopub.status.busy": "2021-09-28T23:21:10.949728Z",
          "iopub.execute_input": "2021-09-28T23:21:10.952267Z",
          "iopub.status.idle": "2021-09-28T23:21:10.966868Z",
          "shell.execute_reply.started": "2021-09-28T23:21:10.952225Z",
          "shell.execute_reply": "2021-09-28T23:21:10.965869Z"
        },
        "trusted": true,
        "id": "2kcomX5oVqC5"
      },
      "source": [
        "Test_data.info() #for Categorical Information in Test dataset"
      ],
      "execution_count": null,
      "outputs": []
    },
    {
      "cell_type": "code",
      "metadata": {
        "execution": {
          "iopub.status.busy": "2021-09-28T23:21:12.798871Z",
          "iopub.execute_input": "2021-09-28T23:21:12.799681Z",
          "iopub.status.idle": "2021-09-28T23:21:12.835032Z",
          "shell.execute_reply.started": "2021-09-28T23:21:12.799634Z",
          "shell.execute_reply": "2021-09-28T23:21:12.834166Z"
        },
        "trusted": true,
        "id": "b5Zn6YwxVqC5"
      },
      "source": [
        "Train_data.describe() #for Numerical Information in Train dataset"
      ],
      "execution_count": null,
      "outputs": []
    },
    {
      "cell_type": "code",
      "metadata": {
        "trusted": true,
        "id": "cbPN3tlDVqC5"
      },
      "source": [
        "Train_data.isnull().sum() #Checking Null Values in Train datasets."
      ],
      "execution_count": null,
      "outputs": []
    },
    {
      "cell_type": "code",
      "metadata": {
        "execution": {
          "iopub.status.busy": "2021-09-28T23:21:15.997834Z",
          "iopub.execute_input": "2021-09-28T23:21:15.998161Z",
          "iopub.status.idle": "2021-09-28T23:21:16.011117Z",
          "shell.execute_reply.started": "2021-09-28T23:21:15.99813Z",
          "shell.execute_reply": "2021-09-28T23:21:16.010037Z"
        },
        "trusted": true,
        "id": "yf3K7225VqC6"
      },
      "source": [
        "Test_data.isnull().sum() ##Checking Null Values in Test datasets."
      ],
      "execution_count": null,
      "outputs": []
    },
    {
      "cell_type": "markdown",
      "metadata": {
        "id": "h5jqcibMVqC6"
      },
      "source": [
        "# Let's Look for some patterns or similarity between Features by ploting graphs."
      ]
    },
    {
      "cell_type": "code",
      "metadata": {
        "execution": {
          "iopub.status.busy": "2021-09-28T23:21:17.894379Z",
          "iopub.execute_input": "2021-09-28T23:21:17.894672Z",
          "iopub.status.idle": "2021-09-28T23:21:18.112956Z",
          "shell.execute_reply.started": "2021-09-28T23:21:17.894644Z",
          "shell.execute_reply": "2021-09-28T23:21:18.111762Z"
        },
        "trusted": true,
        "id": "7cjhWjwXVqC6"
      },
      "source": [
        "count_plt = sns.countplot(Train_data[\"Survived\"])\n",
        "plt.show(count_plt)"
      ],
      "execution_count": null,
      "outputs": []
    },
    {
      "cell_type": "code",
      "metadata": {
        "execution": {
          "iopub.status.busy": "2021-09-28T23:21:20.684278Z",
          "iopub.execute_input": "2021-09-28T23:21:20.684663Z",
          "iopub.status.idle": "2021-09-28T23:21:20.956639Z",
          "shell.execute_reply.started": "2021-09-28T23:21:20.684628Z",
          "shell.execute_reply": "2021-09-28T23:21:20.955471Z"
        },
        "trusted": true,
        "id": "Dwyh_Ee1VqC6"
      },
      "source": [
        "sns.barplot(data=Train_data, x=\"Survived\", y=\"Parch\")"
      ],
      "execution_count": null,
      "outputs": []
    },
    {
      "cell_type": "code",
      "metadata": {
        "execution": {
          "iopub.status.busy": "2021-09-28T23:21:22.350615Z",
          "iopub.execute_input": "2021-09-28T23:21:22.351554Z",
          "iopub.status.idle": "2021-09-28T23:21:22.76632Z",
          "shell.execute_reply.started": "2021-09-28T23:21:22.351512Z",
          "shell.execute_reply": "2021-09-28T23:21:22.76545Z"
        },
        "trusted": true,
        "id": "h6Vlsv75VqC7"
      },
      "source": [
        "sns.barplot(data=Train_data, x=\"Pclass\", y=\"Survived\")"
      ],
      "execution_count": null,
      "outputs": []
    },
    {
      "cell_type": "code",
      "metadata": {
        "execution": {
          "iopub.status.busy": "2021-09-28T23:21:24.644861Z",
          "iopub.execute_input": "2021-09-28T23:21:24.645713Z",
          "iopub.status.idle": "2021-09-28T23:21:24.869948Z",
          "shell.execute_reply.started": "2021-09-28T23:21:24.645659Z",
          "shell.execute_reply": "2021-09-28T23:21:24.869297Z"
        },
        "trusted": true,
        "id": "Cg3xxPxOVqC7"
      },
      "source": [
        "sns.barplot(data=Train_data, x=\"Survived\", y=\"Sex\")"
      ],
      "execution_count": null,
      "outputs": []
    },
    {
      "cell_type": "code",
      "metadata": {
        "trusted": true,
        "id": "2jcPeIUTVqC7"
      },
      "source": [
        "Train_data['Age'].fillna(Train_data['Age'].mean(), inplace = True)\n",
        "Test_data['Age'].fillna(Train_data['Age'].mean(), inplace = True)\n",
        "Test_data['Fare'].fillna(Train_data['Fare'].mean(), inplace = True)\n",
        "Train_data['Embarked'].fillna('S', inplace = True)"
      ],
      "execution_count": null,
      "outputs": []
    },
    {
      "cell_type": "code",
      "metadata": {
        "trusted": true,
        "id": "VwlyulrOVqC7"
      },
      "source": [
        "Train_data.isnull().sum()"
      ],
      "execution_count": null,
      "outputs": []
    },
    {
      "cell_type": "code",
      "metadata": {
        "execution": {
          "iopub.status.busy": "2021-09-28T23:21:30.872659Z",
          "iopub.execute_input": "2021-09-28T23:21:30.873543Z",
          "iopub.status.idle": "2021-09-28T23:21:30.884053Z",
          "shell.execute_reply.started": "2021-09-28T23:21:30.87349Z",
          "shell.execute_reply": "2021-09-28T23:21:30.882928Z"
        },
        "trusted": true,
        "id": "aivLVT33VqC7"
      },
      "source": [
        "#We will drop unwanted columns\n",
        "Train_data.drop(columns=[\"Cabin\", \"Name\", \"Ticket\"], axis=1, inplace=True)\n",
        "Test_data.drop(columns=[\"Cabin\", \"Name\", \"Ticket\"], axis=1, inplace=True)\n",
        "\n",
        "# We will drop passengerid\n",
        "Train_data = Train_data.drop(['PassengerId'],axis=1)"
      ],
      "execution_count": null,
      "outputs": []
    },
    {
      "cell_type": "code",
      "metadata": {
        "trusted": true,
        "id": "iXpNN1KcVqC8"
      },
      "source": [
        "# Now we will change gender to numeric\n",
        "Train_data.loc[Train_data.Sex=='female','Sex']=1\n",
        "Train_data.loc[Train_data.Sex=='male','Sex']=0\n",
        "Train_data[\"Sex\"] = Train_data[\"Sex\"].astype(str).astype(float)\n",
        "\n",
        "# changing strings to numeric\n",
        "Train_data.loc[Train_data.Embarked =='S','Embarked']= 3\n",
        "Train_data.loc[Train_data.Embarked =='C','Embarked']=2\n",
        "Train_data.loc[Train_data.Embarked =='Q','Embarked']=1\n",
        "Train_data[\"Embarked\"] = Train_data[\"Embarked\"].astype(str).astype(float)"
      ],
      "execution_count": null,
      "outputs": []
    },
    {
      "cell_type": "code",
      "metadata": {
        "execution": {
          "iopub.status.busy": "2021-09-28T23:21:34.299333Z",
          "iopub.execute_input": "2021-09-28T23:21:34.300211Z",
          "iopub.status.idle": "2021-09-28T23:21:34.327166Z",
          "shell.execute_reply.started": "2021-09-28T23:21:34.300163Z",
          "shell.execute_reply": "2021-09-28T23:21:34.326217Z"
        },
        "trusted": true,
        "id": "_TJWBVb7VqC8"
      },
      "source": [
        "# Same for test data\n",
        "Test_data['Age'] = Test_data['Age'].fillna(Test_data['Age'].mean())\n",
        "Test_data['Fare'] = Test_data['Fare'].fillna(Test_data['Fare'].mean())\n",
        "Test_data.loc[Test_data.Sex=='female','Sex']=1\n",
        "Test_data.loc[Test_data.Sex=='male','Sex']=0\n",
        "Test_data[\"Sex\"] = Test_data[\"Sex\"].astype(str).astype(float)\n",
        "Test_data.loc[Test_data.Embarked =='S','Embarked']= 3\n",
        "Test_data.loc[Test_data.Embarked =='C','Embarked']=2\n",
        "Test_data.loc[Test_data.Embarked =='Q','Embarked']=1\n",
        "Test_data[\"Embarked\"] = Test_data[\"Embarked\"].astype(str).astype(float)\n",
        "Test_data.isnull().sum()"
      ],
      "execution_count": null,
      "outputs": []
    },
    {
      "cell_type": "code",
      "metadata": {
        "execution": {
          "iopub.status.busy": "2021-09-28T23:21:37.511186Z",
          "iopub.execute_input": "2021-09-28T23:21:37.511485Z",
          "iopub.status.idle": "2021-09-28T23:21:37.535494Z",
          "shell.execute_reply.started": "2021-09-28T23:21:37.511456Z",
          "shell.execute_reply": "2021-09-28T23:21:37.533908Z"
        },
        "trusted": true,
        "id": "mymTmdhPVqC8"
      },
      "source": [
        "# checking data\n",
        "print(Train_data.head())\n",
        "print(Test_data.head())\n",
        "print(Train_data.corr())"
      ],
      "execution_count": null,
      "outputs": []
    },
    {
      "cell_type": "markdown",
      "metadata": {
        "id": "R-hgAiiwVqC8"
      },
      "source": [
        "# Predicting using Algorithms"
      ]
    },
    {
      "cell_type": "code",
      "metadata": {
        "execution": {
          "iopub.status.busy": "2021-09-28T23:21:39.690323Z",
          "iopub.execute_input": "2021-09-28T23:21:39.690849Z",
          "iopub.status.idle": "2021-09-28T23:21:39.95927Z",
          "shell.execute_reply.started": "2021-09-28T23:21:39.690808Z",
          "shell.execute_reply": "2021-09-28T23:21:39.958455Z"
        },
        "trusted": true,
        "id": "XtVIFjuoVqC8"
      },
      "source": [
        "train_x= Train_data.drop(columns=[\"Survived\"], axis=1)\n",
        "train_y= Train_data[\"Survived\"]\n",
        "\n",
        "test_x= Test_data.drop(\"PassengerId\",axis=1)\n",
        "\n",
        "\n",
        "# Random forest classifier\n",
        "\n",
        "model_RF = RandomForestClassifier(n_estimators=100, max_depth=4, min_samples_split=2, min_samples_leaf=2, random_state=2)\n",
        "model_RF.fit(train_x, train_y)\n",
        "predictions_RF = model_RF.predict(test_x)\n",
        "\n",
        "print(model_RF.score(train_x, train_y))\n",
        "pp = model_RF.predict(test_x)\n",
        "print(\"Survived\", sum(pp!=0))\n",
        "print(\"NOT Survived\", sum(pp==0))"
      ],
      "execution_count": null,
      "outputs": []
    },
    {
      "cell_type": "code",
      "metadata": {
        "execution": {
          "iopub.status.busy": "2021-09-28T22:57:47.7866Z",
          "iopub.execute_input": "2021-09-28T22:57:47.78696Z",
          "iopub.status.idle": "2021-09-28T22:57:47.879747Z",
          "shell.execute_reply.started": "2021-09-28T22:57:47.786926Z",
          "shell.execute_reply": "2021-09-28T22:57:47.878612Z"
        },
        "trusted": true,
        "id": "hjnMOW-rVqC9"
      },
      "source": [
        "#Knn classifier\n",
        "KNN_classifier = KNeighborsClassifier(n_neighbors=3)\n",
        "KNN_classifier.fit(train_x, train_y)\n",
        "predictions_KNN = KNN_classifier.predict(test_x)\n",
        "\n",
        "print(KNN_classifier.score(train_x, train_y))\n",
        "pp = KNN_classifier.predict(test_x)\n",
        "print(\"Survived\", sum(pp!=0))\n",
        "print(\"NOT Survived\", sum(pp==0))"
      ],
      "execution_count": null,
      "outputs": []
    },
    {
      "cell_type": "code",
      "metadata": {
        "trusted": true,
        "id": "ghD8rzgtVqC9"
      },
      "source": [
        "#Final Submission\n",
        "output = pd.DataFrame({'PassengerId': Test_data.PassengerId, 'Survived': predictions_RF})\n",
        "output.to_csv('submission.csv', index=False)\n",
        "print(\"Your submission was successfully saved!\")"
      ],
      "execution_count": null,
      "outputs": []
    },
    {
      "cell_type": "code",
      "metadata": {
        "execution": {
          "iopub.status.busy": "2021-09-28T23:21:51.942749Z",
          "iopub.execute_input": "2021-09-28T23:21:51.943079Z",
          "iopub.status.idle": "2021-09-28T23:21:51.96027Z",
          "shell.execute_reply.started": "2021-09-28T23:21:51.943048Z",
          "shell.execute_reply": "2021-09-28T23:21:51.959339Z"
        },
        "trusted": true,
        "id": "k6naq-XoVqC9"
      },
      "source": [
        "Train_data.head()"
      ],
      "execution_count": null,
      "outputs": []
    },
    {
      "cell_type": "raw",
      "metadata": {
        "id": "GXK2JzINVqC9"
      },
      "source": [
        ""
      ]
    }
  ]
}